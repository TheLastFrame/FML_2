{
 "cells": [
  {
   "cell_type": "markdown",
   "metadata": {},
   "source": [
    "# Data Exploration"
   ]
  },
  {
   "cell_type": "code",
   "execution_count": 1,
   "metadata": {},
   "outputs": [
    {
     "name": "stdout",
     "output_type": "stream",
     "text": [
      "Collecting ydata-profiling (from -r requirements.txt (line 1))\n",
      "  Obtaining dependency information for ydata-profiling from https://files.pythonhosted.org/packages/a2/19/c58a6c22a04806c70802518eaf70866e5633fe47e671ded361295dfaf839/ydata_profiling-4.6.4-py2.py3-none-any.whl.metadata\n",
      "  Downloading ydata_profiling-4.6.4-py2.py3-none-any.whl.metadata (20 kB)\n",
      "Requirement already satisfied: pandas in /home/daniel/anaconda3/envs/base_ml/lib/python3.8/site-packages (from -r requirements.txt (line 2)) (2.0.3)\n",
      "Requirement already satisfied: seaborn in /home/daniel/anaconda3/envs/base_ml/lib/python3.8/site-packages (from -r requirements.txt (line 3)) (0.12.2)\n",
      "Requirement already satisfied: scipy<1.12,>=1.4.1 in /home/daniel/anaconda3/envs/base_ml/lib/python3.8/site-packages (from ydata-profiling->-r requirements.txt (line 1)) (1.9.3)\n",
      "Requirement already satisfied: matplotlib<3.9,>=3.2 in /home/daniel/anaconda3/envs/base_ml/lib/python3.8/site-packages (from ydata-profiling->-r requirements.txt (line 1)) (3.7.3)\n",
      "Requirement already satisfied: pydantic>=2 in /home/daniel/anaconda3/envs/base_ml/lib/python3.8/site-packages (from ydata-profiling->-r requirements.txt (line 1)) (2.4.2)\n",
      "Requirement already satisfied: PyYAML<6.1,>=5.0.0 in /home/daniel/anaconda3/envs/base_ml/lib/python3.8/site-packages (from ydata-profiling->-r requirements.txt (line 1)) (6.0.1)\n",
      "Requirement already satisfied: jinja2<3.2,>=2.11.1 in /home/daniel/anaconda3/envs/base_ml/lib/python3.8/site-packages (from ydata-profiling->-r requirements.txt (line 1)) (3.1.2)\n",
      "Collecting visions[type_image_path]==0.7.5 (from ydata-profiling->-r requirements.txt (line 1))\n",
      "  Downloading visions-0.7.5-py3-none-any.whl (102 kB)\n",
      "\u001b[2K     \u001b[38;2;114;156;31m━━━━━━━━━━━━━━━━━━━━━━━━━━━━━━━━━━━━━━━\u001b[0m \u001b[32m102.7/102.7 kB\u001b[0m \u001b[31m1.8 MB/s\u001b[0m eta \u001b[36m0:00:00\u001b[0m[31m2.1 MB/s\u001b[0m eta \u001b[36m0:00:01\u001b[0m\n",
      "\u001b[?25hRequirement already satisfied: numpy<1.26,>=1.16.0 in /home/daniel/anaconda3/envs/base_ml/lib/python3.8/site-packages (from ydata-profiling->-r requirements.txt (line 1)) (1.24.4)\n",
      "Collecting htmlmin==0.1.12 (from ydata-profiling->-r requirements.txt (line 1))\n",
      "  Downloading htmlmin-0.1.12.tar.gz (19 kB)\n",
      "  Preparing metadata (setup.py) ... \u001b[?25ldone\n",
      "\u001b[?25hCollecting phik<0.13,>=0.11.1 (from ydata-profiling->-r requirements.txt (line 1))\n",
      "  Obtaining dependency information for phik<0.13,>=0.11.1 from https://files.pythonhosted.org/packages/02/7d/83dcf9ce8865a2ecf93d17c31652f43139d0fa0d41e5e09a50a301470c4e/phik-0.12.4-cp38-cp38-manylinux_2_17_x86_64.manylinux2014_x86_64.whl.metadata\n",
      "  Downloading phik-0.12.4-cp38-cp38-manylinux_2_17_x86_64.manylinux2014_x86_64.whl.metadata (5.6 kB)\n",
      "Requirement already satisfied: requests<3,>=2.24.0 in /home/daniel/anaconda3/envs/base_ml/lib/python3.8/site-packages (from ydata-profiling->-r requirements.txt (line 1)) (2.31.0)\n",
      "Requirement already satisfied: tqdm<5,>=4.48.2 in /home/daniel/anaconda3/envs/base_ml/lib/python3.8/site-packages (from ydata-profiling->-r requirements.txt (line 1)) (4.66.1)\n",
      "Collecting multimethod<2,>=1.4 (from ydata-profiling->-r requirements.txt (line 1))\n",
      "  Obtaining dependency information for multimethod<2,>=1.4 from https://files.pythonhosted.org/packages/7f/bd/750245e47e7f307d9f94d4fa84727f4ed9956005dfa671d58be1d531a0f6/multimethod-1.10-py3-none-any.whl.metadata\n",
      "  Downloading multimethod-1.10-py3-none-any.whl.metadata (8.2 kB)\n",
      "Requirement already satisfied: statsmodels<1,>=0.13.2 in /home/daniel/anaconda3/envs/base_ml/lib/python3.8/site-packages (from ydata-profiling->-r requirements.txt (line 1)) (0.14.0)\n",
      "Collecting typeguard<5,>=4.1.2 (from ydata-profiling->-r requirements.txt (line 1))\n",
      "  Obtaining dependency information for typeguard<5,>=4.1.2 from https://files.pythonhosted.org/packages/18/01/5fc45558268ced46d86292763477996a3cdd505567cd590a688e8cdc386e/typeguard-4.1.5-py3-none-any.whl.metadata\n",
      "  Downloading typeguard-4.1.5-py3-none-any.whl.metadata (3.7 kB)\n",
      "Collecting imagehash==4.3.1 (from ydata-profiling->-r requirements.txt (line 1))\n",
      "  Downloading ImageHash-4.3.1-py2.py3-none-any.whl (296 kB)\n",
      "\u001b[2K     \u001b[38;2;114;156;31m━━━━━━━━━━━━━━━━━━━━━━━━━━━━━━━━━━━━━━━\u001b[0m \u001b[32m296.5/296.5 kB\u001b[0m \u001b[31m2.6 MB/s\u001b[0m eta \u001b[36m0:00:00\u001b[0m[31m2.8 MB/s\u001b[0m eta \u001b[36m0:00:01\u001b[0m\n",
      "\u001b[?25hCollecting wordcloud>=1.9.1 (from ydata-profiling->-r requirements.txt (line 1))\n",
      "  Obtaining dependency information for wordcloud>=1.9.1 from https://files.pythonhosted.org/packages/b2/e9/0e717dbf8c31a4e9ead9fa48a4b691c48209f9cbb3d774caeca991d217eb/wordcloud-1.9.3-cp38-cp38-manylinux_2_17_x86_64.manylinux2014_x86_64.whl.metadata\n",
      "  Downloading wordcloud-1.9.3-cp38-cp38-manylinux_2_17_x86_64.manylinux2014_x86_64.whl.metadata (3.4 kB)\n",
      "Collecting dacite>=1.8 (from ydata-profiling->-r requirements.txt (line 1))\n",
      "  Obtaining dependency information for dacite>=1.8 from https://files.pythonhosted.org/packages/21/0f/cf0943f4f55f0fbc7c6bd60caf1343061dff818b02af5a0d444e473bb78d/dacite-1.8.1-py3-none-any.whl.metadata\n",
      "  Downloading dacite-1.8.1-py3-none-any.whl.metadata (15 kB)\n",
      "Requirement already satisfied: numba<0.59.0,>=0.56.0 in /home/daniel/anaconda3/envs/base_ml/lib/python3.8/site-packages (from ydata-profiling->-r requirements.txt (line 1)) (0.58.1)\n",
      "Requirement already satisfied: PyWavelets in /home/daniel/anaconda3/envs/base_ml/lib/python3.8/site-packages (from imagehash==4.3.1->ydata-profiling->-r requirements.txt (line 1)) (1.4.1)\n",
      "Requirement already satisfied: pillow in /home/daniel/anaconda3/envs/base_ml/lib/python3.8/site-packages (from imagehash==4.3.1->ydata-profiling->-r requirements.txt (line 1)) (10.2.0)\n",
      "Requirement already satisfied: attrs>=19.3.0 in /home/daniel/anaconda3/envs/base_ml/lib/python3.8/site-packages (from visions[type_image_path]==0.7.5->ydata-profiling->-r requirements.txt (line 1)) (23.2.0)\n",
      "Requirement already satisfied: networkx>=2.4 in /home/daniel/anaconda3/envs/base_ml/lib/python3.8/site-packages (from visions[type_image_path]==0.7.5->ydata-profiling->-r requirements.txt (line 1)) (3.1)\n",
      "Collecting tangled-up-in-unicode>=0.0.4 (from visions[type_image_path]==0.7.5->ydata-profiling->-r requirements.txt (line 1))\n",
      "  Downloading tangled_up_in_unicode-0.2.0-py3-none-any.whl (4.7 MB)\n",
      "\u001b[2K     \u001b[38;2;114;156;31m━━━━━━━━━━━━━━━━━━━━━━━━━━━━━━━━━━━━━━━━\u001b[0m \u001b[32m4.7/4.7 MB\u001b[0m \u001b[31m2.7 MB/s\u001b[0m eta \u001b[36m0:00:00\u001b[0mm eta \u001b[36m0:00:01\u001b[0m0:01\u001b[0m:01\u001b[0m\n",
      "\u001b[?25hRequirement already satisfied: python-dateutil>=2.8.2 in /home/daniel/anaconda3/envs/base_ml/lib/python3.8/site-packages (from pandas->-r requirements.txt (line 2)) (2.8.2)\n",
      "Requirement already satisfied: pytz>=2020.1 in /home/daniel/anaconda3/envs/base_ml/lib/python3.8/site-packages (from pandas->-r requirements.txt (line 2)) (2023.3.post1)\n",
      "Requirement already satisfied: tzdata>=2022.1 in /home/daniel/anaconda3/envs/base_ml/lib/python3.8/site-packages (from pandas->-r requirements.txt (line 2)) (2023.4)\n",
      "Requirement already satisfied: MarkupSafe>=2.0 in /home/daniel/anaconda3/envs/base_ml/lib/python3.8/site-packages (from jinja2<3.2,>=2.11.1->ydata-profiling->-r requirements.txt (line 1)) (2.1.3)\n",
      "Requirement already satisfied: contourpy>=1.0.1 in /home/daniel/anaconda3/envs/base_ml/lib/python3.8/site-packages (from matplotlib<3.9,>=3.2->ydata-profiling->-r requirements.txt (line 1)) (1.1.1)\n",
      "Requirement already satisfied: cycler>=0.10 in /home/daniel/anaconda3/envs/base_ml/lib/python3.8/site-packages (from matplotlib<3.9,>=3.2->ydata-profiling->-r requirements.txt (line 1)) (0.11.0)\n",
      "Requirement already satisfied: fonttools>=4.22.0 in /home/daniel/anaconda3/envs/base_ml/lib/python3.8/site-packages (from matplotlib<3.9,>=3.2->ydata-profiling->-r requirements.txt (line 1)) (4.42.1)\n",
      "Requirement already satisfied: kiwisolver>=1.0.1 in /home/daniel/anaconda3/envs/base_ml/lib/python3.8/site-packages (from matplotlib<3.9,>=3.2->ydata-profiling->-r requirements.txt (line 1)) (1.4.5)\n",
      "Requirement already satisfied: packaging>=20.0 in /home/daniel/anaconda3/envs/base_ml/lib/python3.8/site-packages (from matplotlib<3.9,>=3.2->ydata-profiling->-r requirements.txt (line 1)) (23.2)\n",
      "Requirement already satisfied: pyparsing>=2.3.1 in /home/daniel/anaconda3/envs/base_ml/lib/python3.8/site-packages (from matplotlib<3.9,>=3.2->ydata-profiling->-r requirements.txt (line 1)) (3.1.1)\n",
      "Requirement already satisfied: importlib-resources>=3.2.0 in /home/daniel/anaconda3/envs/base_ml/lib/python3.8/site-packages (from matplotlib<3.9,>=3.2->ydata-profiling->-r requirements.txt (line 1)) (6.1.0)\n",
      "Requirement already satisfied: llvmlite<0.42,>=0.41.0dev0 in /home/daniel/anaconda3/envs/base_ml/lib/python3.8/site-packages (from numba<0.59.0,>=0.56.0->ydata-profiling->-r requirements.txt (line 1)) (0.41.1)\n",
      "Requirement already satisfied: importlib-metadata in /home/daniel/anaconda3/envs/base_ml/lib/python3.8/site-packages (from numba<0.59.0,>=0.56.0->ydata-profiling->-r requirements.txt (line 1)) (6.8.0)\n",
      "Requirement already satisfied: joblib>=0.14.1 in /home/daniel/anaconda3/envs/base_ml/lib/python3.8/site-packages (from phik<0.13,>=0.11.1->ydata-profiling->-r requirements.txt (line 1)) (1.3.2)\n",
      "Requirement already satisfied: annotated-types>=0.4.0 in /home/daniel/anaconda3/envs/base_ml/lib/python3.8/site-packages (from pydantic>=2->ydata-profiling->-r requirements.txt (line 1)) (0.6.0)\n",
      "Requirement already satisfied: pydantic-core==2.10.1 in /home/daniel/anaconda3/envs/base_ml/lib/python3.8/site-packages (from pydantic>=2->ydata-profiling->-r requirements.txt (line 1)) (2.10.1)\n",
      "Requirement already satisfied: typing-extensions>=4.6.1 in /home/daniel/anaconda3/envs/base_ml/lib/python3.8/site-packages (from pydantic>=2->ydata-profiling->-r requirements.txt (line 1)) (4.9.0)\n",
      "Requirement already satisfied: six>=1.5 in /home/daniel/anaconda3/envs/base_ml/lib/python3.8/site-packages (from python-dateutil>=2.8.2->pandas->-r requirements.txt (line 2)) (1.16.0)\n",
      "Requirement already satisfied: charset-normalizer<4,>=2 in /home/daniel/anaconda3/envs/base_ml/lib/python3.8/site-packages (from requests<3,>=2.24.0->ydata-profiling->-r requirements.txt (line 1)) (3.3.2)\n",
      "Requirement already satisfied: idna<4,>=2.5 in /home/daniel/anaconda3/envs/base_ml/lib/python3.8/site-packages (from requests<3,>=2.24.0->ydata-profiling->-r requirements.txt (line 1)) (3.6)\n",
      "Requirement already satisfied: urllib3<3,>=1.21.1 in /home/daniel/anaconda3/envs/base_ml/lib/python3.8/site-packages (from requests<3,>=2.24.0->ydata-profiling->-r requirements.txt (line 1)) (2.1.0)\n",
      "Requirement already satisfied: certifi>=2017.4.17 in /home/daniel/anaconda3/envs/base_ml/lib/python3.8/site-packages (from requests<3,>=2.24.0->ydata-profiling->-r requirements.txt (line 1)) (2023.11.17)\n",
      "Requirement already satisfied: patsy>=0.5.2 in /home/daniel/anaconda3/envs/base_ml/lib/python3.8/site-packages (from statsmodels<1,>=0.13.2->ydata-profiling->-r requirements.txt (line 1)) (0.5.3)\n",
      "Requirement already satisfied: zipp>=0.5 in /home/daniel/anaconda3/envs/base_ml/lib/python3.8/site-packages (from importlib-metadata->numba<0.59.0,>=0.56.0->ydata-profiling->-r requirements.txt (line 1)) (3.17.0)\n",
      "Downloading ydata_profiling-4.6.4-py2.py3-none-any.whl (357 kB)\n",
      "\u001b[2K   \u001b[38;2;114;156;31m━━━━━━━━━━━━━━━━━━━━━━━━━━━━━━━━━━━━━━━━\u001b[0m \u001b[32m357.8/357.8 kB\u001b[0m \u001b[31m3.1 MB/s\u001b[0m eta \u001b[36m0:00:00\u001b[0m[31m3.3 MB/s\u001b[0m eta \u001b[36m0:00:01\u001b[0m\n",
      "\u001b[?25hDownloading dacite-1.8.1-py3-none-any.whl (14 kB)\n",
      "Downloading multimethod-1.10-py3-none-any.whl (9.9 kB)\n",
      "Downloading phik-0.12.4-cp38-cp38-manylinux_2_17_x86_64.manylinux2014_x86_64.whl (686 kB)\n",
      "\u001b[2K   \u001b[38;2;114;156;31m━━━━━━━━━━━━━━━━━━━━━━━━━━━━━━━━━━━━━━━━\u001b[0m \u001b[32m686.1/686.1 kB\u001b[0m \u001b[31m3.4 MB/s\u001b[0m eta \u001b[36m0:00:00\u001b[0m MB/s\u001b[0m eta \u001b[36m0:00:01\u001b[0m:01\u001b[0m\n",
      "\u001b[?25hDownloading typeguard-4.1.5-py3-none-any.whl (34 kB)\n",
      "Downloading wordcloud-1.9.3-cp38-cp38-manylinux_2_17_x86_64.manylinux2014_x86_64.whl (520 kB)\n",
      "\u001b[2K   \u001b[38;2;114;156;31m━━━━━━━━━━━━━━━━━━━━━━━━━━━━━━━━━━━━━━━━\u001b[0m \u001b[32m520.1/520.1 kB\u001b[0m \u001b[31m3.1 MB/s\u001b[0m eta \u001b[36m0:00:00\u001b[0m MB/s\u001b[0m eta \u001b[36m0:00:01\u001b[0m:01\u001b[0m\n",
      "\u001b[?25hBuilding wheels for collected packages: htmlmin\n",
      "  Building wheel for htmlmin (setup.py) ... \u001b[?25ldone\n",
      "\u001b[?25h  Created wheel for htmlmin: filename=htmlmin-0.1.12-py3-none-any.whl size=27081 sha256=c2dd0fc6454634de07c6e5ded357e8ddb5df7be79e693524e45714e88bcd4c34\n",
      "  Stored in directory: /home/daniel/.cache/pip/wheels/23/14/6e/4be5bfeeb027f4939a01764b48edd5996acf574b0913fe5243\n",
      "Successfully built htmlmin\n",
      "Installing collected packages: htmlmin, tangled-up-in-unicode, multimethod, dacite, typeguard, imagehash, wordcloud, visions, phik, ydata-profiling\n",
      "Successfully installed dacite-1.8.1 htmlmin-0.1.12 imagehash-4.3.1 multimethod-1.10 phik-0.12.4 tangled-up-in-unicode-0.2.0 typeguard-4.1.5 visions-0.7.5 wordcloud-1.9.3 ydata-profiling-4.6.4\n",
      "Note: you may need to restart the kernel to use updated packages.\n"
     ]
    }
   ],
   "source": [
    "%pip install -r requirements.txt"
   ]
  },
  {
   "cell_type": "code",
   "execution_count": 5,
   "metadata": {},
   "outputs": [
    {
     "ename": "ImportError",
     "evalue": "cannot import name 'val_split_seed' from 'config' (/home/daniel/anaconda3/envs/base_ml/lib/python3.8/site-packages/config/__init__.py)",
     "output_type": "error",
     "traceback": [
      "\u001b[0;31m---------------------------------------------------------------------------\u001b[0m",
      "\u001b[0;31mImportError\u001b[0m                               Traceback (most recent call last)",
      "Cell \u001b[0;32mIn[5], line 18\u001b[0m\n\u001b[1;32m     15\u001b[0m \u001b[38;5;28;01mfrom\u001b[39;00m \u001b[38;5;21;01mtensorflow\u001b[39;00m\u001b[38;5;21;01m.\u001b[39;00m\u001b[38;5;21;01mkeras\u001b[39;00m\u001b[38;5;21;01m.\u001b[39;00m\u001b[38;5;21;01mmodels\u001b[39;00m \u001b[38;5;28;01mimport\u001b[39;00m Sequential\n\u001b[1;32m     16\u001b[0m \u001b[38;5;28;01mfrom\u001b[39;00m \u001b[38;5;21;01mtensorflow\u001b[39;00m\u001b[38;5;21;01m.\u001b[39;00m\u001b[38;5;21;01mkeras\u001b[39;00m\u001b[38;5;21;01m.\u001b[39;00m\u001b[38;5;21;01mlayers\u001b[39;00m \u001b[38;5;28;01mimport\u001b[39;00m Dense\n\u001b[0;32m---> 18\u001b[0m \u001b[38;5;28;01mfrom\u001b[39;00m \u001b[38;5;21;01mconfig\u001b[39;00m \u001b[38;5;28;01mimport\u001b[39;00m val_split_seed\n",
      "\u001b[0;31mImportError\u001b[0m: cannot import name 'val_split_seed' from 'config' (/home/daniel/anaconda3/envs/base_ml/lib/python3.8/site-packages/config/__init__.py)"
     ]
    }
   ],
   "source": [
    "import pandas as pd\n",
    "import seaborn as sns\n",
    "from pandas_profiling import ProfileReport\n",
    "from sklearn.model_selection import train_test_split\n",
    "from sklearn.preprocessing import OneHotEncoder\n",
    "from sklearn.linear_model import LogisticRegression\n",
    "from sklearn.tree import DecisionTreeClassifier\n",
    "from sklearn.ensemble import RandomForestClassifier\n",
    "from sklearn.ensemble import GradientBoostingClassifier\n",
    "from sklearn.pipeline import make_pipeline\n",
    "from sklearn.compose import ColumnTransformer\n",
    "from sklearn.metrics import accuracy_score, precision_score, recall_score, f1_score, cohen_kappa_score, make_scorer, classification_report\n",
    "import numpy as np\n",
    "import tensorflow as tf\n",
    "from tensorflow.keras.models import Sequential\n",
    "from tensorflow.keras.layers import Dense\n",
    "\n",
    "from config import val_split_seed\n"
   ]
  },
  {
   "cell_type": "code",
   "execution_count": null,
   "metadata": {},
   "outputs": [],
   "source": [
    "a = pd.read_csv(\"./BankA.csv\")\n",
    "b = pd.read_csv(\"./BankB.csv\")\n",
    "c = pd.read_csv(\"./BankC.csv\")"
   ]
  },
  {
   "cell_type": "code",
   "execution_count": null,
   "metadata": {},
   "outputs": [],
   "source": [
    "a_samp = a.sample(n=100)\n",
    "b_samp = b.sample(n=100)\n",
    "c_samp = c.sample(n=100)\n",
    "\n",
    "# a_b_samp = a_samp.append(b_samp, ignore_index=True)\n",
    "# all_samp = a_b_samp.append(c_samp, ignore_index=True)\n",
    "\n",
    "all_samp = pd.concat([a_samp, b_samp, c_samp], ignore_index=True)"
   ]
  },
  {
   "cell_type": "code",
   "execution_count": null,
   "metadata": {},
   "outputs": [],
   "source": [
    "sns.pairplot(all_samp, height=3);"
   ]
  },
  {
   "cell_type": "code",
   "execution_count": null,
   "metadata": {},
   "outputs": [],
   "source": [
    "profile = ProfileReport(all_samp, title=\"Profiling Report\")\n",
    "profile.to_notebook_iframe()"
   ]
  },
  {
   "cell_type": "code",
   "execution_count": null,
   "metadata": {},
   "outputs": [],
   "source": [
    "all_samp.head(3)"
   ]
  },
  {
   "cell_type": "code",
   "execution_count": null,
   "metadata": {},
   "outputs": [],
   "source": [
    "# Native Country (Rassistisch?)\n",
    "# Gender (sexismus)\n",
    "# Race (Rassistisch!)\n",
    "# Relationship (Husband, Wife einfach zu Married?)\n",
    "# Educational-num oder education weg, je nach dem ob one hot encoding oder nicht"
   ]
  },
  {
   "cell_type": "code",
   "execution_count": null,
   "metadata": {},
   "outputs": [],
   "source": [
    "df = pd.concat([a, b, c], ignore_index=True)"
   ]
  },
  {
   "cell_type": "code",
   "execution_count": null,
   "metadata": {},
   "outputs": [],
   "source": [
    "drop_this = [\"institute\",\"education\",\"race\",\"gender\",\"native-country\"]\n",
    "df = df.drop(drop_this, axis = 1)"
   ]
  },
  {
   "cell_type": "code",
   "execution_count": null,
   "metadata": {},
   "outputs": [],
   "source": [
    "df.loc[df[\"relationship\"].isin([\"Husband\", \"Wife\"]), \"relationship\"] = \"Married\""
   ]
  },
  {
   "cell_type": "code",
   "execution_count": null,
   "metadata": {},
   "outputs": [],
   "source": [
    "df.dtypes"
   ]
  },
  {
   "cell_type": "code",
   "execution_count": null,
   "metadata": {},
   "outputs": [],
   "source": [
    "df = pd.get_dummies(df, columns=[\"workclass\", \"marital-status\", \"occupation\", \"relationship\"])"
   ]
  },
  {
   "cell_type": "code",
   "execution_count": null,
   "metadata": {},
   "outputs": [],
   "source": [
    "df.head()"
   ]
  },
  {
   "cell_type": "code",
   "execution_count": null,
   "metadata": {},
   "outputs": [],
   "source": [
    "y = df['income']\n",
    "X = df.drop('income', axis=1)\n",
    "\n",
    "X_train, X_test, y_train, y_test = train_test_split(X, y, test_size=0.2, random_state=val_split_seed)"
   ]
  },
  {
   "cell_type": "code",
   "execution_count": null,
   "metadata": {},
   "outputs": [],
   "source": [
    "# Modelle für Klassifikation\n",
    "models = {'Logistic Regression': LogisticRegression(),\n",
    "          'Decision Tree': DecisionTreeClassifier(random_state=42),\n",
    "          'Random Forest': RandomForestClassifier(random_state=42),\n",
    "          'Gradient Boosting': GradientBoostingClassifier(random_state=42)}\n",
    "\n",
    "# Evaluation Metriken für Klassifikation\n",
    "results = {'Model': [], 'Accuracy': [], 'Precision': [], 'Recall': [], 'F1 Score': [], 'Cohen\\'s Kappa': []}\n",
    "\n",
    "# Modellentwicklung und Evaluation\n",
    "for model_name, model in models.items():\n",
    "    # Modell anpassen\n",
    "    model.fit(X_train, y_train)\n",
    "    \n",
    "    # Vorhersagen\n",
    "    predictions = model.predict(X_test)\n",
    "    \n",
    "    # Metriken\n",
    "    accuracy = accuracy_score(y_test, predictions)\n",
    "    precision = precision_score(y_test, predictions, pos_label='>50K')\n",
    "    recall = recall_score(y_test, predictions, pos_label='>50K')\n",
    "    f1 = f1_score(y_test, predictions, pos_label='>50K')\n",
    "    kappa = cohen_kappa_score(y_test, predictions)\n",
    "    \n",
    "    # Ergebnisse speichern\n",
    "    results['Model'].append(model_name)\n",
    "    results['Accuracy'].append(accuracy)\n",
    "    results['Precision'].append(precision)\n",
    "    results['Recall'].append(recall)\n",
    "    results['F1 Score'].append(f1)\n",
    "    results['Cohen\\'s Kappa'].append(kappa)\n",
    "    \n",
    "    # Metriken anzeigen\n",
    "    print(\"Klassifikationsbericht:\\n\", classification_report(y_test, predictions))\n",
    "    print(f\"{model_name}\\nAccuracy: {accuracy:.2f}\\nPrecision: {precision:.2f}\\nRecall: {recall:.2f}\\nF1 Score: {f1:.2f}\\nCohen's Kappa: {kappa:.2f}\\n{'='*40}\")\n",
    "\n",
    "# Ergebnisse in ein DataFrame konvertieren, um sie besser zu visualisieren\n",
    "pd.DataFrame(results).sort_values(by='Accuracy', ascending=False)"
   ]
  },
  {
   "cell_type": "code",
   "execution_count": null,
   "metadata": {},
   "outputs": [],
   "source": [
    "df['income'] = df['income'].map({'>50K': 1, '<=50K': 0})\n",
    "y = df['income']\n",
    "X = df.drop('income', axis=1)\n",
    "\n",
    "X_train, X_test, y_train, y_test = train_test_split(X, y, test_size=0.2, random_state=0)"
   ]
  },
  {
   "cell_type": "code",
   "execution_count": null,
   "metadata": {},
   "outputs": [],
   "source": [
    "model = Sequential()\n",
    "model.add(Dense(64, activation='relu', input_shape=(X_train.shape[1],)))\n",
    "model.add(Dense(32, activation='relu'))\n",
    "model.add(Dense(1, activation='sigmoid'))  # Für binäre Klassifikation\n",
    "\n",
    "# Kompilieren des Modells\n",
    "model.compile(optimizer='adam', loss='binary_crossentropy', metrics=['accuracy'])\n",
    "\n",
    "# Konvertieren der Daten in Tensoren (sollte das auf 0-1 skaliert sein?)\n",
    "X_train_tensor = tf.convert_to_tensor(np.asarray(X_train).astype('float32'))\n",
    "y_train_tensor = tf.convert_to_tensor(np.asarray(y_train).astype('float32'))\n",
    "X_test_tensor = tf.convert_to_tensor(np.asarray(X_test).astype('float32'))\n",
    "y_test_tensor = tf.convert_to_tensor(np.asarray(y_test).astype('float32'))\n",
    "\n",
    "# Trainieren des Modells\n",
    "model.fit(X_train_tensor, y_train_tensor, epochs=10, batch_size=32)\n",
    "\n",
    "# Bewertung des Modells\n",
    "loss, accuracy = model.evaluate(X_test_tensor, y_test_tensor)\n",
    "\n",
    "results['Model'].append('Neural Network')\n",
    "results['Accuracy'].append(accuracy)\n",
    "results['Precision'].append(np.nan)\n",
    "results['Recall'].append(np.nan)\n",
    "results['F1 Score'].append(np.nan)\n",
    "results['Cohen\\'s Kappa'].append(np.nan)\n",
    "pd.DataFrame(results).sort_values(by='Accuracy', ascending=False)"
   ]
  },
  {
   "cell_type": "code",
   "execution_count": null,
   "metadata": {},
   "outputs": [],
   "source": []
  },
  {
   "cell_type": "code",
   "execution_count": null,
   "metadata": {},
   "outputs": [],
   "source": []
  },
  {
   "cell_type": "markdown",
   "metadata": {},
   "source": [
    "# Train Models for each Bank separately"
   ]
  },
  {
   "cell_type": "code",
   "execution_count": null,
   "metadata": {},
   "outputs": [],
   "source": []
  },
  {
   "cell_type": "code",
   "execution_count": null,
   "metadata": {},
   "outputs": [],
   "source": [
    "\n",
    "# Load BankA.csv\n",
    "bankA_df = pd.read_csv('BankA.csv')\n",
    "print(bankA_df.shape)\n",
    "\n",
    "# Load BankB.csv\n",
    "bankB_df = pd.read_csv('BankB.csv')\n",
    "print(bankB_df.shape)\n",
    "\n",
    "# Load BankC.csv\n",
    "bankC_df = pd.read_csv('BankC.csv')\n",
    "print(bankC_df.shape)\n"
   ]
  },
  {
   "cell_type": "code",
   "execution_count": null,
   "metadata": {},
   "outputs": [],
   "source": [
    "np.random.seed(42) "
   ]
  },
  {
   "cell_type": "code",
   "execution_count": null,
   "metadata": {},
   "outputs": [],
   "source": [
    "bankA_df.head(3)"
   ]
  },
  {
   "cell_type": "code",
   "execution_count": null,
   "metadata": {},
   "outputs": [],
   "source": [
    "# Define function to split data into train and test sets\n",
    "\n",
    "def split_data(df):\n",
    "    # Drop \"race\" and \"gender\" columns\n",
    "    df_processed = df.drop(['race', 'gender'], axis=1)\n",
    "    \n",
    "    # Encode categorical variables\n",
    "    label_encoders = {}\n",
    "    for column in df_processed.select_dtypes(include=['object']).columns:\n",
    "        label_encoders[column] = LabelEncoder()\n",
    "        df_processed[column] = label_encoders[column].fit_transform(df_processed[column])\n",
    "    \n",
    "    # Split data into features and target variable\n",
    "    X = df_processed.drop('income', axis=1)\n",
    "    y = df_processed['income']\n",
    "    \n",
    "    # Split data into training and testing sets\n",
    "    X_train, X_test, y_train, y_test = train_test_split(X, y, test_size=0.2, random_state=42)\n",
    "    \n",
    "    # Scale features using MinMaxScaler\n",
    "    scaler = MinMaxScaler()\n",
    "    X_train_scaled = scaler.fit_transform(X_train)\n",
    "    X_test_scaled = scaler.transform(X_test)\n",
    "    \n",
    "    return X_train_scaled, X_test_scaled, y_train, y_test\n"
   ]
  },
  {
   "cell_type": "code",
   "execution_count": null,
   "metadata": {},
   "outputs": [],
   "source": [
    "# Define function to train logistic regression model\n",
    "def train_model(X_train, X_test, y_train, y_test, model):\n",
    "    # Train model\n",
    "    model.fit(X_train, y_train)\n",
    "    \n",
    "    # Evaluate model\n",
    "    train_score = model.score(X_train, y_train)\n",
    "    test_score = model.score(X_test, y_test)\n",
    "    \n",
    "    return model, train_score, test_score\n"
   ]
  },
  {
   "cell_type": "code",
   "execution_count": null,
   "metadata": {},
   "outputs": [],
   "source": [
    "# Split data for Bank A\n",
    "X_trainA, X_testA, y_trainA, y_testA = split_data(bankA_df)\n",
    "\n",
    "# Split data for Bank B\n",
    "X_trainB, X_testB, y_trainB, y_testB = split_data(bankB_df)\n",
    "\n",
    "# Split data for Bank C\n",
    "X_trainC, X_testC, y_trainC, y_testC = split_data(bankC_df)\n"
   ]
  },
  {
   "cell_type": "code",
   "execution_count": null,
   "metadata": {},
   "outputs": [],
   "source": []
  },
  {
   "cell_type": "code",
   "execution_count": null,
   "metadata": {},
   "outputs": [],
   "source": [
    "LogReg = LogisticRegression(max_iter=1000)\n",
    "\n",
    "# Train logistic regression models for each dataframe\n",
    "bankA_model_log, bankA_train_score_log, bankA_test_score_log = train_model(X_trainA, X_testA, y_trainA, y_testA, model=LogReg)\n",
    "bankB_model_log, bankB_train_score_log, bankB_test_score_log = train_model(X_trainB, X_testB, y_trainB, y_testB, model=LogReg)\n",
    "bankC_model_log, bankC_train_score_log, bankC_test_score_log = train_model(X_trainC, X_testC, y_trainC, y_testC, model=LogReg)\n",
    "\n",
    "# Display training and testing scores for each model\n",
    "print(\"Bank A - Training Score:\", bankA_train_score_log)\n",
    "print(\"Bank A - Testing Score:\", bankA_test_score_log)\n",
    "print(\"Bank B - Training Score:\", bankB_train_score_log)\n",
    "print(\"Bank B - Testing Score:\", bankB_test_score_log)\n",
    "print(\"Bank C - Training Score:\", bankC_train_score_log)\n",
    "print(\"Bank C - Testing Score:\", bankC_test_score_log)\n",
    "\n"
   ]
  },
  {
   "cell_type": "code",
   "execution_count": null,
   "metadata": {},
   "outputs": [],
   "source": [
    "from sklearn.svm import SVC\n",
    "\n",
    "# Create SVC model\n",
    "svm_model = SVC()\n",
    "\n",
    "# Train SVM models for each dataframe\n",
    "bankA_model_svm, bankA_train_score_svm, bankA_test_score_svm = train_model(X_trainA[:len(X_trainA)//10], X_testA, y_trainA[:len(X_trainA)//10], y_testA, model=svm_model)\n",
    "print('BankA Training finished')\n",
    "bankB_model_svm, bankB_train_score_svm, bankB_test_score_svm = train_model(X_trainB[:len(X_trainB)//10], X_testB, y_trainB[:len(X_trainB)//10], y_testB, model=svm_model)\n",
    "print('BankB Training finished')\n",
    "bankC_model_svm, bankC_train_score_svm, bankC_test_score_svm = train_model(X_trainC[:len(X_trainC)//10], X_testC, y_trainC[:len(X_trainC)//10], y_testC, model=svm_model)\n",
    "print('BankC Training finished')\n",
    "\n",
    "# Display training and testing scores for each model\n",
    "print(\"Bank A - Training Score:\", bankA_train_score_svm)\n",
    "print(\"Bank A - Testing Score:\", bankA_test_score_svm)\n",
    "print(\"Bank B - Training Score:\", bankB_train_score_svm)\n",
    "print(\"Bank B - Testing Score:\", bankB_test_score_svm)\n",
    "print(\"Bank C - Training Score:\", bankC_train_score_svm)\n",
    "print(\"Bank C - Testing Score:\", bankC_test_score_svm)"
   ]
  },
  {
   "cell_type": "code",
   "execution_count": null,
   "metadata": {},
   "outputs": [],
   "source": []
  },
  {
   "cell_type": "code",
   "execution_count": null,
   "metadata": {},
   "outputs": [],
   "source": []
  },
  {
   "cell_type": "code",
   "execution_count": null,
   "metadata": {},
   "outputs": [],
   "source": []
  }
 ],
 "metadata": {
  "kernelspec": {
   "display_name": "Python 3 (ipykernel)",
   "language": "python",
   "name": "python3"
  },
  "language_info": {
   "codemirror_mode": {
    "name": "ipython",
    "version": 3
   },
   "file_extension": ".py",
   "mimetype": "text/x-python",
   "name": "python",
   "nbconvert_exporter": "python",
   "pygments_lexer": "ipython3",
   "version": "3.8.17"
  }
 },
 "nbformat": 4,
 "nbformat_minor": 4
}
